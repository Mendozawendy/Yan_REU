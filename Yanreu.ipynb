{
 "cells": [
  {
   "cell_type": "code",
   "execution_count": 1,
   "metadata": {},
   "outputs": [],
   "source": [
    "import numpy as np\n",
    "import math\n",
    "from astropy.io import fits\n",
    "from astropy.stats import sigma_clipped_stats\n",
    "from photutils import aperture_photometry, CircularAperture, CircularAnnulus"
   ]
  },
  {
   "cell_type": "code",
   "execution_count": 5,
   "metadata": {},
   "outputs": [],
   "source": [
    "def calculate_photometry(flux, aperture_area, annulus_area, std, exptime, flux_flag):\n",
    "    \"\"\"\n",
    "    Calculates photometry values including flux error, instrumental magnitude,\n",
    "    corrected instrumental magnitude, and their errors.\n",
    "    \n",
    "    Parameters:\n",
    "    - flux: float, the measured light intensity of an astronomical object\n",
    "    - aperture_area: float, the area of the aperture\n",
    "    - annulus_area: float, the area of the annulus around the aperture\n",
    "    - std: float, standard deviation (possibly of the background noise)\n",
    "    - exptime: float, exposure time\n",
    "    - flux_flag: any type, additional information about the flux measurement\n",
    "    \n",
    "    Returns:\n",
    "    - phot_table: dictionary, containing the calculated photometry values\n",
    "    \"\"\"\n",
    "\n",
    "    # Calculate the flux error\n",
    "    flux_error = math.sqrt(flux + (aperture_area * (1 + (math.pi * aperture_area) / (2 * annulus_area)) * (std ** 2)))\n",
    "    \n",
    "    # Calculate the instrumental magnitude\n",
    "    inst_mag = -2.5 * math.log10(flux)\n",
    "    \n",
    "    # Correct the instrumental magnitude for exposure time\n",
    "    corr_inst_mag = inst_mag + (2.5 * math.log10(exptime))\n",
    "    \n",
    "    # Calculate the error in the instrumental magnitude\n",
    "    inst_mag_error = (2.5 * flux_error) / (math.log(10) * flux)\n",
    "    \n",
    "    # Calculate the logarithm of the instrumental magnitude error\n",
    "    log_inst_mag_error = math.log10(inst_mag_error)\n",
    "    \n",
    "    # Store all the calculated values in a dictionary\n",
    "    phot_table = {\n",
    "        \"flux\": flux,\n",
    "        \"flux_flag\": flux_flag,\n",
    "        \"flux_error\": flux_error,\n",
    "        \"inst_mag\": inst_mag,\n",
    "        \"corr_inst_mag\": corr_inst_mag,\n",
    "        \"inst_mag_error\": inst_mag_error,\n",
    "        \"log_inst_mag_error\": log_inst_mag_error\n",
    "    }\n",
    "    \n",
    "    # Return the dictionary with the photometry values\n",
    "    return phot_table\n"
   ]
  },
  {
   "cell_type": "code",
   "execution_count": 6,
   "metadata": {},
   "outputs": [],
   "source": [
    "# Load the FITS file\n",
    "file_name = \"/Users/wendymendoza/Desktop/05stacked_77.fits\"\n",
    "image_data = fits.getdata(file_name)"
   ]
  },
  {
   "cell_type": "code",
   "execution_count": 7,
   "metadata": {},
   "outputs": [],
   "source": [
    "# Define the position of the star (x, y) and radii\n",
    "x, y = 2043.0361, 2009.0003  # Example coordinates\n",
    "radius_aperture = 12.45429\n",
    "radius_inner_annulus = 21.306638\n",
    "radius_outer_annulus = 30.069002"
   ]
  },
  {
   "cell_type": "code",
   "execution_count": 8,
   "metadata": {},
   "outputs": [],
   "source": [
    "# Define the apertures\n",
    "aperture = CircularAperture((x, y), r=radius_aperture)\n",
    "annulus_aperture = CircularAnnulus((x, y), r_in=radius_inner_annulus, r_out=radius_outer_annulus)\n",
    "apertures = [aperture, annulus_aperture]"
   ]
  },
  {
   "cell_type": "code",
   "execution_count": 9,
   "metadata": {},
   "outputs": [],
   "source": [
    "# Get statistics\n",
    "mean, median, std = sigma_clipped_stats(image_data, sigma=3.0)"
   ]
  },
  {
   "cell_type": "code",
   "execution_count": 10,
   "metadata": {},
   "outputs": [],
   "source": [
    "# Perform aperture photometry\n",
    "phot_table = aperture_photometry(image_data, apertures)\n"
   ]
  },
  {
   "cell_type": "code",
   "execution_count": 11,
   "metadata": {},
   "outputs": [],
   "source": [
    "# Calculate background\n",
    "bkg_mean = phot_table['aperture_sum_1'] / annulus_aperture.area\n",
    "bkg_total = bkg_mean * aperture.area"
   ]
  },
  {
   "cell_type": "code",
   "execution_count": 12,
   "metadata": {},
   "outputs": [],
   "source": [
    "# Subtract background\n",
    "net_star_flux = phot_table['aperture_sum_0'] - bkg_total"
   ]
  },
  {
   "cell_type": "code",
   "execution_count": 13,
   "metadata": {},
   "outputs": [],
   "source": [
    "# Calculate magnitude\n",
    "star_magnitude = -2.5 * np.log10(net_star_flux)"
   ]
  },
  {
   "cell_type": "code",
   "execution_count": 15,
   "metadata": {},
   "outputs": [],
   "source": [
    "# Call the calculate_photometry function\n",
    "exptime = 60  # Example exposure time\n",
    "flux_flag = True  # Example flux flag\n",
    "photometry_values = calculate_photometry(net_star_flux, aperture.area, annulus_aperture.area, std, exptime, flux_flag)\n"
   ]
  },
  {
   "cell_type": "code",
   "execution_count": 19,
   "metadata": {},
   "outputs": [
    {
     "name": "stdout",
     "output_type": "stream",
     "text": [
      "Star flux:   aperture_sum_0 \n",
      "-----------------\n",
      "153887.2560243106 e-/s\n",
      "Star magnitude:    aperture_sum_0  \n",
      "-------------------\n",
      "-12.968006639450609\n",
      "Photometry values: {'flux': <Column name='aperture_sum_0' dtype='float64' length=1>\n",
      "153887.2560243106, 'flux_flag': True, 'flux_error': 3683.154219485122, 'inst_mag': -12.968006639450609, 'corr_inst_mag': -8.522628513491501, 'inst_mag_error': <Column name='aperture_sum_0' dtype='float64' length=1>\n",
      "0.02598612768279479, 'log_inst_mag_error': -1.585258431976063}\n"
     ]
    }
   ],
   "source": [
    "# Output results\n",
    "print(f'Star flux: {net_star_flux} e-/s')\n",
    "print(f'Star magnitude: {star_magnitude}')\n",
    "print(f'Photometry values: {photometry_values}')\n",
    "\n"
   ]
  },
  {
   "cell_type": "code",
   "execution_count": 20,
   "metadata": {},
   "outputs": [],
   "source": [
    "# Importar librerías\n",
    "import numpy as np\n",
    "import math\n",
    "from astropy.io import fits\n",
    "from astropy.stats import sigma_clipped_stats\n",
    "from photutils import aperture_photometry, CircularAperture, CircularAnnulus"
   ]
  },
  {
   "cell_type": "code",
   "execution_count": 21,
   "metadata": {},
   "outputs": [],
   "source": [
    "def calculate_photometry(flux, aperture_area, annulus_area, std, exptime, flux_flag):\n",
    "    \"\"\"\n",
    "    Calculates photometry values including flux error, instrumental magnitude,\n",
    "    corrected instrumental magnitude, and their errors.\n",
    "    \n",
    "    Parameters:\n",
    "    - flux: float, the measured light intensity of an astronomical object\n",
    "    - aperture_area: float, the area of the aperture\n",
    "    - annulus_area: float, the area of the annulus around the aperture\n",
    "    - std: float, standard deviation (possibly of the background noise)\n",
    "    - exptime: float, exposure time\n",
    "    - flux_flag: any type, additional information about the flux measurement\n",
    "    \n",
    "    Returns:\n",
    "    - phot_table: dictionary, containing the calculated photometry values\n",
    "    \"\"\"\n",
    "\n",
    "    # Calculate the flux error\n",
    "    flux_error = math.sqrt(flux + (aperture_area * (1 + (math.pi * aperture_area) / (2 * annulus_area)) * (std ** 2)))\n",
    "    \n",
    "    # Calculate the instrumental magnitude\n",
    "    inst_mag = -2.5 * math.log10(flux)\n",
    "    \n",
    "    # Correct the instrumental magnitude for exposure time\n",
    "    corr_inst_mag = inst_mag + (2.5 * math.log10(exptime))\n",
    "    \n",
    "    # Calculate the error in the instrumental magnitude\n",
    "    inst_mag_error = (2.5 * flux_error) / (math.log(10) * flux)\n",
    "    \n",
    "    # Calculate the logarithm of the instrumental magnitude error\n",
    "    log_inst_mag_error = math.log10(inst_mag_error)\n",
    "    \n",
    "    # Store all the calculated values in a dictionary\n",
    "    phot_table = {\n",
    "        \"flux\": flux,\n",
    "        \"flux_flag\": flux_flag,\n",
    "        \"flux_error\": flux_error,\n",
    "        \"inst_mag\": inst_mag,\n",
    "        \"corr_inst_mag\": corr_inst_mag,\n",
    "        \"inst_mag_error\": inst_mag_error,\n",
    "        \"log_inst_mag_error\": log_inst_mag_error\n",
    "    }\n",
    "    \n",
    "    # Return the dictionary with the photometry values\n",
    "    return phot_table\n"
   ]
  },
  {
   "cell_type": "code",
   "execution_count": 22,
   "metadata": {},
   "outputs": [],
   "source": [
    "# Cargar el archivo FITS\n",
    "file_name = \"/Users/wendymendoza/Desktop/05stacked_77.fits\"\n",
    "image_data = fits.getdata(file_name)"
   ]
  },
  {
   "cell_type": "code",
   "execution_count": 23,
   "metadata": {},
   "outputs": [],
   "source": [
    "# Definir la posición de las estrellas [(x1, y1), (x2, y2), ...] y los radios\n",
    "star_positions = [(2043.0361, 2009.0003), (2050.0, 2010.0)]  # Coordenadas de ejemplo para múltiples estrellas\n",
    "radius_aperture = 12.45429\n",
    "radius_inner_annulus = 21.306638\n",
    "radius_outer_annulus = 30.069002\n"
   ]
  },
  {
   "cell_type": "code",
   "execution_count": 24,
   "metadata": {},
   "outputs": [],
   "source": [
    "# Obtener estadísticas\n",
    "mean, median, std = sigma_clipped_stats(image_data, sigma=3.0)\n"
   ]
  },
  {
   "cell_type": "code",
   "execution_count": 26,
   "metadata": {},
   "outputs": [
    {
     "name": "stdout",
     "output_type": "stream",
     "text": [
      "Flujo de estrella:   aperture_sum_0  \n",
      "------------------\n",
      "138425.80043080798 e-/s\n",
      "Magnitud de estrella:    aperture_sum_0  \n",
      "-------------------\n",
      "-12.853042608619184\n",
      "Valores de fotometría: {'flux': <Column name='aperture_sum_0' dtype='float64' length=1>\n",
      "138425.80043080798, 'flux_flag': True, 'flux_error': 3681.054678881795, 'inst_mag': -12.853042608619184, 'corr_inst_mag': -8.407664482660074, 'inst_mag_error': <Column name='aperture_sum_0' dtype='float64' length=1>\n",
      "0.028872177904103936, 'log_inst_mag_error': -1.5395204549118144}\n"
     ]
    }
   ],
   "source": [
    "# Realizar fotometría de apertura\n",
    "phot_table = aperture_photometry(image_data, apertures)\n",
    "\n",
    "# Calcular fondo\n",
    "bkg_mean = phot_table['aperture_sum_1'] / annulus_aperture.area\n",
    "bkg_total = bkg_mean * aperture.area\n",
    "\n",
    "# Restar fondo\n",
    "net_star_flux = phot_table['aperture_sum_0'] - bkg_total\n",
    "\n",
    "# Calcular magnitud\n",
    "star_magnitude = -2.5 * np.log10(net_star_flux)\n",
    "\n",
    "# Llamar a la función calculate_photometry\n",
    "exptime = 60  # Tiempo de exposición de ejemplo\n",
    "flux_flag = True  # Indicador de flujo de ejemplo\n",
    "photometry_values = calculate_photometry(net_star_flux, aperture.area, annulus_aperture.area, std, exptime, flux_flag)\n",
    "\n",
    "# Mostrar resultados\n",
    "print(f'Flujo de estrella: {net_star_flux} e-/s')\n",
    "print(f'Magnitud de estrella: {star_magnitude}')\n",
    "print(f'Valores de fotometría: {photometry_values}')"
   ]
  }
 ],
 "metadata": {
  "kernelspec": {
   "display_name": "Python 3",
   "language": "python",
   "name": "python3"
  },
  "language_info": {
   "codemirror_mode": {
    "name": "ipython",
    "version": 3
   },
   "file_extension": ".py",
   "mimetype": "text/x-python",
   "name": "python",
   "nbconvert_exporter": "python",
   "pygments_lexer": "ipython3",
   "version": "3.10.5"
  },
  "orig_nbformat": 4
 },
 "nbformat": 4,
 "nbformat_minor": 2
}
